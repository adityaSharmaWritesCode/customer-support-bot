{
 "cells": [
  {
   "cell_type": "code",
   "execution_count": 15,
   "id": "2116c3b1",
   "metadata": {},
   "outputs": [],
   "source": [
    "from typing import Annotated, Sequence, TypedDict, Optional, Union\n",
    "from langchain_ollama import ChatOllama\n",
    "from langgraph.graph import StateGraph, START, END\n",
    "from langchain_core.messages import AIMessage, HumanMessage, BaseMessage, SystemMessage\n",
    "from datetime import date, datetime\n",
    "from langchain_core.tools import tool\n",
    "from langgraph.graph.message import add_messages\n",
    "from langchain_core.runnables import RunnableConfig"
   ]
  },
  {
   "cell_type": "markdown",
   "id": "f4b172f9",
   "metadata": {},
   "source": [
    "<h2>Populating the database</h2>"
   ]
  },
  {
   "cell_type": "code",
   "execution_count": 8,
   "id": "6b043fdb",
   "metadata": {},
   "outputs": [],
   "source": [
    "import os, shutil, sqlite3\n",
    "import pandas as pd\n",
    "import requests\n",
    "\n",
    "db_url = \"https://storage.googleapis.com/benchmarks-artifacts/travel-db/travel2.sqlite\"\n",
    "local_file = \"travel2.sqlite\"\n",
    "backup_file = \"travel2.backup.sqlite\"\n",
    "overwrite = False\n",
    "\n",
    "if overwrite or not os.path.exists(local_file):\n",
    "    response = requests.get(db_url)\n",
    "    response.raise_for_status()\n",
    "    with open(local_file, \"wb\") as f:\n",
    "        f.write(response.content)\n",
    "    shutil.copy(local_file, backup_file)\n",
    "\n",
    "#Converting the flight times to present time\n",
    "def update_datetime(file):\n",
    "    shutil.copy(backup_file, file)\n",
    "    conn = sqlite3.connect(file)\n",
    "    cursor = conn.cursor()\n",
    "\n",
    "    tables = pd.read_sql(\n",
    "        \"SELECT name FROM sqlite_master WHERE type='table';\", conn\n",
    "    ).name.to_list()\n",
    "\n",
    "\n",
    "    tdf ={}\n",
    "    for t in tables:\n",
    "        tdf[t] = pd.read_sql(f\"SELECT * from {t}\", conn)\n",
    "\n",
    "    example_time = pd.to_datetime(\n",
    "        tdf[\"flights\"][\"actual_departure\"].replace(\"\\\\N\", pd.NaT)\n",
    "    ).max()\n",
    "    current_time = pd.to_datetime(\"now\").tz_localize(example_time.tz)\n",
    "    time_diff = current_time - example_time\n",
    "\n",
    "    tdf[\"bookings\"][\"book_date\"] = (\n",
    "        pd.to_datetime(tdf[\"bookings\"][\"book_date\"].replace(\"\\\\N\", pd.NaT), utc=True)\n",
    "        + time_diff\n",
    "    )\n",
    "\n",
    "    datetime_columns = [\n",
    "        \"scheduled_departure\",\n",
    "        \"scheduled_arrival\",\n",
    "        \"actual_departure\",\n",
    "        \"actual_arrival\"\n",
    "    ]\n",
    "\n",
    "    for column in datetime_columns:\n",
    "        tdf[\"flights\"][column] = (\n",
    "            pd.to_datetime(tdf[\"flights\"][column].replace(\"\\\\N\", pd.NaT)) + time_diff\n",
    "        )\n",
    "\n",
    "    for table_name, df in tdf.items():\n",
    "        df.to_sql(table_name, conn, if_exists=\"replace\", index=False)\n",
    "    \n",
    "    del df\n",
    "    del tdf\n",
    "    conn.commit()\n",
    "    conn.close()\n",
    "\n",
    "    return file\n",
    "\n",
    "db = update_datetime(local_file)\n",
    "\n"
   ]
  },
  {
   "cell_type": "markdown",
   "id": "3db161d1",
   "metadata": {},
   "source": [
    "<h2>Flight tools</h2>"
   ]
  },
  {
   "cell_type": "code",
   "execution_count": null,
   "id": "8ffd793f",
   "metadata": {},
   "outputs": [],
   "source": [
    "@tool\n",
    "def flights_search(\n",
    "    dep_airport : Optional[str] = None,\n",
    "    arr_airport : Optional[str] = None,\n",
    "    dep_start_datetime : Optional[date | datetime] = None,\n",
    "    dep_end_datetime : Optional[date | datetime] = None,\n",
    "    arr_start_datetime : Optional[date | datetime] = None,\n",
    "    arr_end_datetime : Optional[date | datetime] = None,\n",
    "    limit : int = 20,\n",
    ") -> list[dict]:\n",
    "    \"\"\"Searches for flights based on given parameters such as departure airport, arrival airport. It also considers the preferred time range of departure of the flight as well as the preferred time range of arrival.\"\"\"\n",
    "    conn = sqlite3.connect(db)\n",
    "    cursor = conn.cursor()\n",
    "    query = \"SELECT * FROM flights WHERE 1 = 1\"\n",
    "    params = []\n",
    "\n",
    "    if dep_airport:\n",
    "        query += \"AND departure_airport = ?\"\n",
    "        params.append(dep_airport)\n",
    "    \n",
    "    if arr_airport:\n",
    "        query += \"AND arrival_airport = ?\"\n",
    "        params.append(arr_airport)\n",
    "\n",
    "    if dep_start_datetime:\n",
    "        query += \"AND scheduled_departure >= ?\"\n",
    "        params.append(dep_start_datetime)\n",
    "    \n",
    "    if dep_end_datetime:\n",
    "        query += \"AND scheduled_departure <= ?\"\n",
    "        params.append(dep_end_datetime)\n",
    "\n",
    "    if arr_start_datetime:\n",
    "        query += \"AND scheduled_arrival >= ?\"\n",
    "        params.append(arr_start_datetime)\n",
    "    \n",
    "    if arr_end_datetime:\n",
    "        query += \"AND scheduled_arrival <= ?\"\n",
    "        params.append(arr_end_datetime)\n",
    "\n",
    "    query += \" LIMIT ?\"\n",
    "    params.append(limit)\n",
    "    cursor.execute(query, params)\n",
    "    rows = cursor.fetchall()\n",
    "    column_names = [column[0] for column in cursor.description]\n",
    "    results = [dict(zip(column_names, row)) for row in rows]\n",
    "\n",
    "    cursor.close()\n",
    "    conn.close()\n",
    "\n",
    "    return results"
   ]
  },
  {
   "cell_type": "markdown",
   "id": "8c4ae144",
   "metadata": {},
   "source": [
    "<h2>Hotel Tools</h2>"
   ]
  },
  {
   "cell_type": "code",
   "execution_count": 13,
   "id": "bb79e63c",
   "metadata": {},
   "outputs": [],
   "source": [
    "@tool\n",
    "def hotel_search(\n",
    "    location: Optional[str] = None,\n",
    "    check_in_datetime: Optional[Union[datetime, date]] = None,\n",
    "    check_out_datetime: Optional[Union[date, datetime]] = None,\n",
    "    price_tier: Optional[str] =None,\n",
    "    limit: int = 20\n",
    ")-> list[dict]:\n",
    "    \"\"\"This function searches for hotels based on given information like location, expected price tier (Luxury, Upscale, Midscale, etcetera) and the expected check in date and check out date.\"\"\"\n",
    "    conn = sqlite3.connect(db)\n",
    "    cursor = conn.cursor()\n",
    "    query = \"SELECT * FROM hotels WHERE 1 = 1\"\n",
    "    params = []\n",
    "\n",
    "    if location:\n",
    "        query += \"AND location = ?\"\n",
    "        params.append(location)\n",
    "    \n",
    "    if check_in_datetime:\n",
    "        query += \"AND checkin_date = ?\"\n",
    "        params.append(check_in_datetime)\n",
    "    \n",
    "    if check_out_datetime:\n",
    "        query += \"AND checkout_date = ?\"\n",
    "        params.append(check_out_datetime)\n",
    "    \n",
    "    if price_tier:\n",
    "        query += \"AND price_tier = ?\"\n",
    "        params.append(price_tier)\n",
    "    \n",
    "    query += \" LIMIT ?\"\n",
    "    params.append(limit)\n",
    "\n",
    "    cursor.execute(query, params)\n",
    "    rows = cursor.fetchall()\n",
    "    column_names = [column[0] for column in cursor.description]\n",
    "    results = [dict(zip(column_names, row)) for row in rows]\n",
    "\n",
    "    cursor.close()\n",
    "    conn.close()\n",
    "\n",
    "    return results\n"
   ]
  },
  {
   "cell_type": "markdown",
   "id": "9727fcad",
   "metadata": {},
   "source": [
    "<h2>Utilities Section</h2>"
   ]
  },
  {
   "cell_type": "code",
   "execution_count": 28,
   "id": "5af49270",
   "metadata": {},
   "outputs": [],
   "source": [
    "def _print_event(event: dict, _printed: set, max_length=1500):\n",
    "    current_state = event.get(\"dialog_state\")\n",
    "    if current_state:\n",
    "        print(\"Currently in: \", current_state[-1])\n",
    "    message = event.get(\"messages\")\n",
    "    if message:\n",
    "        if isinstance(message, list):\n",
    "            message = message[-1]\n",
    "        if message.id not in _printed:\n",
    "            msg_repr = message.pretty_repr(html=True)\n",
    "            if len(msg_repr) > max_length:\n",
    "                msg_repr = msg_repr[:max_length] + \" ... (truncated)\"\n",
    "            print(msg_repr)\n",
    "            _printed.add(message.id)"
   ]
  },
  {
   "cell_type": "markdown",
   "id": "4dc6ac1b",
   "metadata": {},
   "source": [
    "<h2>Defining Agent State</h2>"
   ]
  },
  {
   "cell_type": "code",
   "execution_count": 14,
   "id": "2ab8c69b",
   "metadata": {},
   "outputs": [],
   "source": [
    "class AgentState(TypedDict):\n",
    "    messages : Annotated[Sequence[BaseMessage], add_messages]"
   ]
  },
  {
   "cell_type": "markdown",
   "id": "644b670c",
   "metadata": {},
   "source": [
    "<h2>Defining Agent Class</h2>"
   ]
  },
  {
   "cell_type": "code",
   "execution_count": null,
   "id": "d015ded9",
   "metadata": {},
   "outputs": [],
   "source": [
    "from langchain_core.runnables import Runnable, RunnableConfig\n",
    "\n",
    "class llmAssistant:\n",
    "    def __init__(self, runnable: Runnable):\n",
    "        self.runnable = runnable\n",
    "\n",
    "llm = ChatOllama(model=\"qwen2.5:0.5bm\", temperature=1)\n",
    "\n",
    "def call_model(state: AgentState) -> AgentState:\n",
    "    system_prompt = SystemMessage(\n",
    "        content = f\"\"\"\n",
    "        You are a helpful customer support bot for Jetstar Airlines.\n",
    "        Use the provided tools to search for flights, hotels and other information to assist the user's queries.\n",
    "        \\nCurrent time: {datetime.now}\n",
    "        \"\"\"\n",
    "        )\n",
    "    response = llm.invoke([system_prompt] + state[\"messages\"])\n",
    "    return {\"messages\":response}\n",
    "\n",
    "zero_shot_agent_tools = [\n",
    "    hotel_search,\n",
    "    flights_search\n",
    "]"
   ]
  },
  {
   "cell_type": "markdown",
   "id": "3eb695e1",
   "metadata": {},
   "source": [
    "<h2>Defining the State Graph of the Agent</h2>"
   ]
  },
  {
   "cell_type": "code",
   "execution_count": 27,
   "id": "7f17ddaa",
   "metadata": {},
   "outputs": [
    {
     "data": {
      "image/png": "[encoded data removed]",
      "text/plain": [
       "<IPython.core.display.Image object>"
      ]
     },
     "metadata": {},
     "output_type": "display_data"
    }
   ],
   "source": [
    "from langgraph.prebuilt import tools_condition, ToolNode\n",
    "\n",
    "graph = StateGraph(AgentState)\n",
    "\n",
    "graph.add_node(\"Agent\", call_model)\n",
    "tool_node = ToolNode(tools=zero_shot_agent_tools)\n",
    "graph.add_node(\"tools\", tool_node)\n",
    "\n",
    "graph.add_edge(START, \"Agent\")\n",
    "graph.add_conditional_edges(\n",
    "    \"Agent\",\n",
    "    tools_condition,\n",
    ")\n",
    "graph.add_edge(\"tools\", \"Agent\")\n",
    "\n",
    "app = graph.compile()\n",
    "from IPython.display import Image, display\n",
    "display(Image(app.get_graph().draw_mermaid_png()))"
   ]
  },
  {
   "cell_type": "markdown",
   "id": "14858072",
   "metadata": {},
   "source": [
    "<h2>Actually calling the damn agent and making it all work</h2>"
   ]
  },
  {
   "cell_type": "code",
   "execution_count": null,
   "id": "831ef66c",
   "metadata": {},
   "outputs": [],
   "source": []
  },
  {
   "cell_type": "code",
   "execution_count": null,
   "id": "0d98dfde",
   "metadata": {},
   "outputs": [],
   "source": []
  }
 ],
 "metadata": {
  "kernelspec": {
   "display_name": "Python 3",
   "language": "python",
   "name": "python3"
  },
  "language_info": {
   "codemirror_mode": {
    "name": "ipython",
    "version": 3
   },
   "file_extension": ".py",
   "mimetype": "text/x-python",
   "name": "python",
   "nbconvert_exporter": "python",
   "pygments_lexer": "ipython3",
   "version": "3.13.3"
  }
 },
 "nbformat": 4,
 "nbformat_minor": 5
}
